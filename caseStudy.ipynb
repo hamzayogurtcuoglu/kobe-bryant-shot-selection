{
 "cells": [
  {
   "cell_type": "code",
   "execution_count": 134,
   "metadata": {},
   "outputs": [],
   "source": [
    "import numpy as np\n",
    "import pandas as pd\n",
    "import tensorflow as tf"
   ]
  },
  {
   "cell_type": "code",
   "execution_count": 135,
   "metadata": {},
   "outputs": [],
   "source": [
    "data = pd.read_csv('data.csv')\n",
    "data.set_index('shot_id', inplace=True)"
   ]
  },
  {
   "cell_type": "code",
   "execution_count": 136,
   "metadata": {},
   "outputs": [],
   "source": [
    "necessaryDatas = data.copy()\n",
    "target = necessaryDatas['shot_made_flag'].copy()\n",
    "necessaryDatas.drop('team_id', inplace=True, axis=1)\n",
    "necessaryDatas.drop('lat', inplace=True, axis=1) \n",
    "necessaryDatas.drop('lon', inplace=True, axis=1) \n",
    "necessaryDatas.drop('game_id', inplace=True, axis=1)\n",
    "necessaryDatas.drop('game_event_id', inplace=True, axis=1)\n",
    "necessaryDatas.drop('matchup', axis=1, inplace=True)\n",
    "necessaryDatas.drop('team_name', inplace=True, axis=1)\n",
    "necessaryDatas.drop('shot_made_flag', inplace=True, axis=1) \n",
    "necessaryDatas.drop('minutes_remaining', axis=1, inplace=True)\n",
    "necessaryDatas.drop('seconds_remaining', axis=1, inplace=True)"
   ]
  },
  {
   "cell_type": "code",
   "execution_count": 137,
   "metadata": {},
   "outputs": [],
   "source": [
    "necessaryDatas['game_date'] = pd.to_datetime(necessaryDatas['game_date'])\n",
    "necessaryDatas['game_year'] = necessaryDatas['game_date'].dt.year\n",
    "necessaryDatas['game_month'] = necessaryDatas['game_date'].dt.month\n",
    "necessaryDatas.drop('game_date', axis=1, inplace=True)\n",
    "rare_action_types = necessaryDatas['action_type'].value_counts().sort_values().index.values[:20]\n",
    "necessaryDatas.loc[necessaryDatas['action_type'].isin(rare_action_types), 'action_type'] = 'Other'"
   ]
  },
  {
   "cell_type": "code",
   "execution_count": 138,
   "metadata": {},
   "outputs": [],
   "source": [
    "categorialColums = [\n",
    "    'action_type', 'combined_shot_type', 'period', 'season', 'shot_type',\n",
    "    'shot_zone_area', 'shot_zone_basic', 'shot_zone_range', 'game_year',\n",
    "    'game_month', 'opponent']\n",
    "for i in categorialColums:\n",
    "    dummies = pd.get_dummies(necessaryDatas[i])\n",
    "    dummies = dummies.add_prefix(\"{}_\".format(i))\n",
    "    necessaryDatas.drop(i, axis=1, inplace=True)\n",
    "    necessaryDatas = necessaryDatas.join(dummies)"
   ]
  },
  {
   "cell_type": "code",
   "execution_count": 139,
   "metadata": {},
   "outputs": [],
   "source": [
    "unknownShot = data['shot_made_flag'].isnull()\n",
    "data_submit = necessaryDatas[unknownShot]\n",
    "X = necessaryDatas[~unknownShot]\n",
    "Y = target[~unknownShot]\n",
    "val_mask = np.random.rand(len(X)) < 0.7 \n",
    "X_train = X[val_mask]\n",
    "Y_train = Y[val_mask]\n",
    "X_val = X[~val_mask]\n",
    "Y_val = Y[~val_mask]"
   ]
  },
  {
   "cell_type": "code",
   "execution_count": 140,
   "metadata": {},
   "outputs": [],
   "source": [
    "feature_columns = [tf.contrib.layers.real_valued_column(\"\", dimension=161)]\n",
    "dnnc = tf.contrib.learn.DNNClassifier(\n",
    "  feature_columns=feature_columns,\n",
    "  hidden_units=[50, 50, 50, 25],\n",
    "  n_classes=2)"
   ]
  },
  {
   "cell_type": "code",
   "execution_count": 141,
   "metadata": {},
   "outputs": [
    {
     "name": "stdout",
     "output_type": "stream",
     "text": [
      "Loss: 545.11%\n"
     ]
    }
   ],
   "source": [
    "def print_accuracy():\n",
    "  loss = dnnc.evaluate(x=X_val, y=Y_val)['loss']\n",
    "  print('Loss: {:.2%}'.format(loss))  \n",
    "dnnc.fit(x=X_train, y=Y_train, steps=1)\n",
    "print_accuracy()"
   ]
  },
  {
   "cell_type": "code",
   "execution_count": 142,
   "metadata": {},
   "outputs": [
    {
     "name": "stdout",
     "output_type": "stream",
     "text": [
      "Steps: 500\n",
      "Loss: 66.55%\n",
      "Steps: 1000\n",
      "Loss: 65.97%\n",
      "Steps: 1500\n",
      "Loss: 64.28%\n",
      "Steps: 2000\n",
      "Loss: 63.73%\n",
      "Steps: 2500\n",
      "Loss: 62.54%\n"
     ]
    }
   ],
   "source": [
    "steps = 500\n",
    "for i in range (1, 6):\n",
    "  dnnc.fit(x=X_train, y=Y_train, steps=steps)\n",
    "  print('Steps: ' + str(i * steps))\n",
    "  print_accuracy()"
   ]
  },
  {
   "cell_type": "code",
   "execution_count": 143,
   "metadata": {},
   "outputs": [],
   "source": [
    "preds = dnnc.predict_proba(data_submit, as_iterable=False)\n",
    "prediction = pd.DataFrame()\n",
    "prediction[\"shot_id\"] = data_submit.index\n",
    "result = []\n",
    "temp = preds[:,1]\n",
    "for i in range(len(temp)):\n",
    "    if temp[i] <= 0.5:\n",
    "        result.append(0)\n",
    "    else:\n",
    "        result.append(1)\n",
    "prediction[\"shot_made_flag\"] = result\n",
    "prediction[\"Prediction\"]= preds[:,1]\n",
    "prediction.to_csv(\"prediction.csv\",index=False)"
   ]
  }
 ],
 "metadata": {
  "kernelspec": {
   "display_name": "Python 3",
   "language": "python",
   "name": "python3"
  },
  "language_info": {
   "codemirror_mode": {
    "name": "ipython",
    "version": 3
   },
   "file_extension": ".py",
   "mimetype": "text/x-python",
   "name": "python",
   "nbconvert_exporter": "python",
   "pygments_lexer": "ipython3",
   "version": "3.7.3"
  }
 },
 "nbformat": 4,
 "nbformat_minor": 2
}
